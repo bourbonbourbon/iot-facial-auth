{
 "cells": [
  {
   "cell_type": "code",
   "execution_count": null,
   "metadata": {},
   "outputs": [],
   "source": [
    "import cv2\n",
    "import boto3\n",
    "import botocore\n",
    "from datetime import datetime\n",
    "import sys\n",
    "from dotenv import dotenv_values\n",
    "import json\n"
   ]
  },
  {
   "cell_type": "code",
   "execution_count": null,
   "metadata": {},
   "outputs": [],
   "source": [
    "config = dotenv_values(\".env\")\n"
   ]
  },
  {
   "cell_type": "code",
   "execution_count": null,
   "metadata": {},
   "outputs": [],
   "source": [
    "s3 = boto3.client(\"s3\")\n",
    "reko = boto3.client(\"rekognition\")\n"
   ]
  },
  {
   "cell_type": "code",
   "execution_count": null,
   "metadata": {},
   "outputs": [],
   "source": [
    "def variance_of_laplacian(image):\n",
    "    return cv2.Laplacian(image, cv2.CV_64F).var()\n"
   ]
  },
  {
   "cell_type": "code",
   "execution_count": null,
   "metadata": {},
   "outputs": [],
   "source": [
    "cam = cv2.VideoCapture(0)\n",
    "\n",
    "print(\"Starting camera...\")\n",
    "\n",
    "cam.set(cv2.CAP_PROP_AUTOFOCUS, 0)\n",
    "cam.set(cv2.CAP_PROP_FOCUS, 360)\n",
    "cam.set(cv2.CAP_PROP_BRIGHTNESS, 130)\n",
    "cam.set(cv2.CAP_PROP_SHARPNESS, 125)\n",
    "cam.set(cv2.CAP_PROP_FRAME_WIDTH, 1280)\n",
    "cam.set(cv2.CAP_PROP_FRAME_HEIGHT, 720)\n",
    "\n",
    "pic_taken = False\n",
    "first_loop = True\n",
    "\n",
    "while (True):\n",
    "    if first_loop:\n",
    "        print(\"Taking pictures...\")\n",
    "        print(\"Try to stay still...\")\n",
    "        first_loop = False\n",
    "    result, image = cam.read()\n",
    "    if result:\n",
    "        var = variance_of_laplacian(image)\n",
    "        if var > 30:\n",
    "            capture_filename = datetime.now().strftime(f\"%d-%m-%Y_%H-%M-%S.jpg\")\n",
    "            cv2.imwrite(f\"./captured_images/{capture_filename}\", image)\n",
    "            pic_taken = True\n",
    "            print(\"Picture taken...\")\n",
    "            break\n",
    "        else:\n",
    "            continue\n",
    "\n",
    "cv2.destroyAllWindows()\n",
    "cam.release()\n"
   ]
  },
  {
   "cell_type": "code",
   "execution_count": null,
   "metadata": {},
   "outputs": [],
   "source": [
    "bucket = config[\"bucket_name\"]\n",
    "base_face = config[\"base_face_file\"]\n"
   ]
  },
  {
   "cell_type": "code",
   "execution_count": null,
   "metadata": {},
   "outputs": [],
   "source": [
    "def upload_image(bucket, file):\n",
    "    is_uploaded = False\n",
    "    if pic_taken:\n",
    "        with open(f\"./captured_images/{capture_filename}\", \"rb\") as data:\n",
    "            try:\n",
    "                s3.upload_fileobj(\n",
    "                    data,\n",
    "                    bucket,\n",
    "                    file\n",
    "                )\n",
    "                is_uploaded = True\n",
    "            except botocore.exceptions.ClientError as error:\n",
    "                print(error)\n",
    "    return is_uploaded\n"
   ]
  },
  {
   "cell_type": "code",
   "execution_count": null,
   "metadata": {},
   "outputs": [],
   "source": [
    "def delete_image(bucket, file):\n",
    "    is_deleted = False\n",
    "    try:\n",
    "        s3.delete_object(\n",
    "            Bucket=bucket,\n",
    "            Key=file\n",
    "        )\n",
    "        is_deleted = True\n",
    "    except botocore.exceptions.ClientError as error:\n",
    "        print(error)\n",
    "    return is_deleted\n"
   ]
  },
  {
   "cell_type": "code",
   "execution_count": null,
   "metadata": {},
   "outputs": [],
   "source": [
    "def compare_face(bucket, file, base_face, threshold=85):\n",
    "    try:\n",
    "        response = reko.compare_faces(\n",
    "            SourceImage={\n",
    "                \"S3Object\": {\n",
    "                    \"Bucket\": bucket,\n",
    "                    \"Name\": base_face\n",
    "                }\n",
    "            },\n",
    "            TargetImage={\n",
    "                \"S3Object\": {\n",
    "                    \"Bucket\": bucket,\n",
    "                    \"Name\": file\n",
    "                }\n",
    "            },\n",
    "            SimilarityThreshold=threshold,\n",
    "        )\n",
    "    except botocore.exceptions.ClientError as error:\n",
    "        print(error)\n",
    "\n",
    "    result = json.loads(json.dumps(response))\n",
    "\n",
    "    print(f\"Source Face Confidence: {result['SourceImageFace']['Confidence']}\")\n"
   ]
  },
  {
   "cell_type": "code",
   "execution_count": null,
   "metadata": {},
   "outputs": [],
   "source": [
    "upload_image(bucket, capture_filename)\n",
    "compare_face(bucket, base_face, capture_filename)\n",
    "delete_image(bucket, capture_filename)\n"
   ]
  },
  {
   "cell_type": "code",
   "execution_count": null,
   "metadata": {},
   "outputs": [],
   "source": []
  }
 ],
 "metadata": {
  "kernelspec": {
   "display_name": "venv",
   "language": "python",
   "name": "python3"
  },
  "language_info": {
   "codemirror_mode": {
    "name": "ipython",
    "version": 3
   },
   "file_extension": ".py",
   "mimetype": "text/x-python",
   "name": "python",
   "nbconvert_exporter": "python",
   "pygments_lexer": "ipython3",
   "version": "3.10.11"
  }
 },
 "nbformat": 4,
 "nbformat_minor": 2
}
